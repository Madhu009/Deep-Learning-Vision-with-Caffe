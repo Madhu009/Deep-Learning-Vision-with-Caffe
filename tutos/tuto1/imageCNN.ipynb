{
 "cells": [
  {
   "cell_type": "code",
   "execution_count": 1,
   "metadata": {
    "collapsed": true
   },
   "outputs": [],
   "source": [
    "import sys\n",
    "import numpy as np\n",
    "import matplotlib.pyplot as plt\n",
    "import caffe\n",
    "import cv2"
   ]
  },
  {
   "cell_type": "code",
   "execution_count": 2,
   "metadata": {
    "collapsed": true
   },
   "outputs": [],
   "source": [
    "net=caffe.Net(\"/home/mady/caffevision/caffe/tutos/tuto1/myconvnet.prototxt\",caffe.TEST)\n",
    "\n",
    "#This “net” object contains two dictionaries — net.blobs and net.params.\n",
    "#Basically, net.blobs is for data in the layers and net.params is for the weights and biases in the network. "
   ]
  },
  {
   "cell_type": "code",
   "execution_count": 3,
   "metadata": {},
   "outputs": [
    {
     "name": "stdout",
     "output_type": "stream",
     "text": [
      "\n",
      "net.inputs = ['data']\n",
      "\n",
      "dir(net.blobs) = OrderedDict([('data', <caffe._caffe.Blob object at 0x7fe494d2e488>), ('conv', <caffe._caffe.Blob object at 0x7fe494d2eb90>)])\n",
      "\n",
      "dir(net.params) = OrderedDict([('conv', <caffe._caffe.BlobVec object at 0x7fe495c66de0>)])\n",
      "\n",
      "conv shape =  (1, 10, 254, 254)\n",
      "\n",
      "data shape =  (1, 1, 256, 256)\n",
      "\n",
      "params data =  <caffe._caffe.Blob object at 0x7fe4c40a5320>\n"
     ]
    }
   ],
   "source": [
    "print \"\\nnet.inputs =\", net.inputs\n",
    "print \"\\ndir(net.blobs) =\",net.blobs\n",
    "print \"\\ndir(net.params) =\",net.params\n",
    "\n",
    "print \"\\nconv shape = \", net.blobs['conv'].data.shape\n",
    "print \"\\ndata shape = \", net.blobs['data'].data.shape\n",
    "\n",
    "print \"\\nparams data = \", net.params['conv'][0]#0 for weights 1 for bias"
   ]
  },
  {
   "cell_type": "code",
   "execution_count": 4,
   "metadata": {},
   "outputs": [],
   "source": [
    "img=cv2.imread('/home/mady/caffevision/caffe/tutos/tuto1/input/pic1.jpg',0)\n",
    "img_blobinp = img[np.newaxis, np.newaxis, :, :]\n",
    "net.blobs['data'].reshape(*img_blobinp.shape)\n",
    "net.blobs['data'].data[...] = img_blobinp\n",
    "\n",
    "net.forward()\n",
    "\n",
    "for i in range(10):\n",
    "    cv2.imwrite('/home/mady/caffevision/caffe/tutos/tuto1/output/output_image_' + str(i) + '.jpg', 255*net.blobs['conv'].data[0,i])\n",
    "net.save('myconvmodel.caffemodel')"
   ]
  },
  {
   "cell_type": "code",
   "execution_count": null,
   "metadata": {
    "collapsed": true
   },
   "outputs": [],
   "source": []
  },
  {
   "cell_type": "code",
   "execution_count": null,
   "metadata": {
    "collapsed": true
   },
   "outputs": [],
   "source": []
  }
 ],
 "metadata": {
  "kernelspec": {
   "display_name": "Python 2",
   "language": "python",
   "name": "python2"
  },
  "language_info": {
   "codemirror_mode": {
    "name": "ipython",
    "version": 2
   },
   "file_extension": ".py",
   "mimetype": "text/x-python",
   "name": "python",
   "nbconvert_exporter": "python",
   "pygments_lexer": "ipython2",
   "version": "2.7.12"
  }
 },
 "nbformat": 4,
 "nbformat_minor": 2
}
